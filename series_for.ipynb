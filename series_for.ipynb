{
  "nbformat": 4,
  "nbformat_minor": 0,
  "metadata": {
    "colab": {
      "provenance": [],
      "toc_visible": true,
      "authorship_tag": "ABX9TyMoT1pvFnb4veCAm9IpcJ+C",
      "include_colab_link": true
    },
    "kernelspec": {
      "name": "python3",
      "display_name": "Python 3"
    },
    "language_info": {
      "name": "python"
    },
    "gpuClass": "standard"
  },
  "cells": [
    {
      "cell_type": "markdown",
      "metadata": {
        "id": "view-in-github",
        "colab_type": "text"
      },
      "source": [
        "<a href=\"https://colab.research.google.com/github/Juandcardx/serie_for/blob/main/series_for.ipynb\" target=\"_parent\"><img src=\"https://colab.research.google.com/assets/colab-badge.svg\" alt=\"Open In Colab\"/></a>"
      ]
    },
    {
      "cell_type": "markdown",
      "source": [
        "# series usando for"
      ],
      "metadata": {
        "id": "Ewn-xNqLF0m8"
      }
    },
    {
      "cell_type": "code",
      "execution_count": null,
      "metadata": {
        "id": "tM9_YJfrFH7v"
      },
      "outputs": [],
      "source": [
        "# serie 1: 1,2,3,4,5,6,7,8,9,10\n",
        "\n",
        "print(\"----------------------\")\n",
        "print(\"------- serie 1 ------\")\n",
        "print(\"----------------------\")\n",
        "\n",
        "s = \"serie: {\"\n",
        "for i in range(1,11):\n",
        "  s = s +str(i) + \", \"\n",
        "s = s + \"}\"\n",
        "print(s)"
      ]
    },
    {
      "cell_type": "code",
      "execution_count": null,
      "metadata": {
        "id": "gWMQJCPvJaDg"
      },
      "outputs": [],
      "source": [
        "# serie 2: 1,4,9,16,25,36,49,64,81, ...\n",
        "\n",
        "print(\"----------------------\")\n",
        "print(\"------- serie 2 ------\")\n",
        "print(\"----------------------\")\n",
        "\n",
        "s = \"serie: {\"\n",
        "for i in range(1,11):\n",
        "  if i!= 10:\n",
        "    s = s +str(i**2) + \", \"\n",
        "  else:\n",
        "    s = s + str (i**2)\n",
        "s = s + \"}\"\n",
        "print(s)"
      ]
    },
    {
      "cell_type": "code",
      "execution_count": null,
      "metadata": {
        "id": "i8f61utdOPqO"
      },
      "outputs": [],
      "source": [
        "# serie 3: 2,4,6,8,16,32,64, ...\n",
        "\n",
        "print(\"----------------------\")\n",
        "print(\"------- serie 3 ------\")\n",
        "print(\"----------------------\")\n",
        "\n",
        "s = \"serie: {\"\n",
        "for i in range(1,8):\n",
        "  if i!= 7:\n",
        "    s = s +str(2**i) + \", \"\n",
        "  else:\n",
        "    s = s + str (2**i)\n",
        "s = s + \"}\"\n",
        "print(s)"
      ]
    },
    {
      "cell_type": "code",
      "execution_count": 15,
      "metadata": {
        "colab": {
          "base_uri": "https://localhost:8080/"
        },
        "id": "ofZ2cIIHQD9I",
        "outputId": "272c4c45-e828-4afd-af65-63bc83eb185e"
      },
      "outputs": [
        {
          "output_type": "stream",
          "name": "stdout",
          "text": [
            "----------------------\n",
            "------- serie 4 ------\n",
            "----------------------\n",
            "serie: {2, 2, 6, 12, 20, 30, 42, 56, 72, 90, 110}\n"
          ]
        }
      ],
      "source": [
        "# serie 4: 2,6,12,20,30,42,56, ...\n",
        "\n",
        "print(\"----------------------\")\n",
        "print(\"------- serie 4 ------\")\n",
        "print(\"----------------------\")\n",
        "\n",
        "s = \"serie: {2\"\n",
        "for i in range(1,11):\n",
        "    s += \", \" + str(i * (i + 1))\n",
        "s += \"}\"\n",
        "\n",
        "print(s)"
      ]
    },
    {
      "cell_type": "markdown",
      "source": [],
      "metadata": {
        "id": "fIrVh5FlP_et"
      }
    },
    {
      "cell_type": "markdown",
      "source": [
        "# funciones en python"
      ],
      "metadata": {
        "id": "ebSC1NoRTfBK"
      }
    },
    {
      "cell_type": "markdown",
      "source": [
        "Funciones_python"
      ],
      "metadata": {
        "id": "7Y0lQM08TnFO"
      }
    },
    {
      "cell_type": "code",
      "source": [
        "print(\"--------------------------------\")\n",
        "print(\"- BUSCAR UN NUMERO EN CONJUNTO -\")\n",
        "print(\"--------------------------------\")\n",
        "\n",
        "# input\n",
        "b = int(input(\"Numero a buscar: \"))\n",
        "# prosesing\n",
        "a = [1,2,3,4,5] #lista\n",
        "r = False # \n",
        "\n",
        "for i in a:\n",
        "  if i == b:\n",
        "    print(\"Lo encontré\")\n",
        "    r = True \n",
        "if r == False:\n",
        "  print(\"No lo encontré\")\n",
        "\n",
        "# output\n",
        "\n",
        "print(\"/nEso era...\")"
      ],
      "metadata": {
        "id": "DvE5QT8STyMZ"
      },
      "execution_count": null,
      "outputs": []
    },
    {
      "cell_type": "code",
      "source": [
        "print(\"--------------------------------\")\n",
        "print(\"- BUSCAR UN NUMERO EN CONJUNTO -\")\n",
        "print(\"--------------------------------\")\n",
        "\n",
        "# Definición de la función \n",
        "def buscarDatoEnLista(datoABuscar, lista):\n",
        "  r = False\n",
        "  for i in lista:\n",
        "    if i == datoABuscar:\n",
        "      r = True\n",
        "  return r\n",
        "\n",
        "# input\n",
        "dato = int(input(\"Numero a buscar: \"))\n",
        "\n",
        "# Prosesing\n",
        "lista = [1,2,3,4,5]\n",
        "if buscarDatoEnLista(dato, lista):\n",
        "  print(\"Lo encontré\")\n",
        "else: \n",
        "  print(\"No lo encontré\")\n",
        "\n",
        "# salida\n",
        "print(\"/nEso era...\")"
      ],
      "metadata": {
        "colab": {
          "base_uri": "https://localhost:8080/"
        },
        "id": "Jl2JAk6CWu_M",
        "outputId": "7721f0df-92c4-4ca3-f4b0-5771d6b26f8d"
      },
      "execution_count": 19,
      "outputs": [
        {
          "output_type": "stream",
          "name": "stdout",
          "text": [
            "--------------------------------\n",
            "- BUSCAR UN NUMERO EN CONJUNTO -\n",
            "--------------------------------\n",
            "Numero a buscar: 5\n",
            "Lo encontré\n",
            "/nEso era...\n"
          ]
        }
      ]
    }
  ]
}